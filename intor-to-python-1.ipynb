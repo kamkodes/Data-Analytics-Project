{
  "cells": [
    {
      "cell_type": "markdown",
      "metadata": {
        "id": "view-in-github",
        "colab_type": "text"
      },
      "source": [
        "<a href=\"https://colab.research.google.com/github/kamkodes/Data-Analytics-Project/blob/main/intor-to-python-1.ipynb\" target=\"_parent\"><img src=\"https://colab.research.google.com/assets/colab-badge.svg\" alt=\"Open In Colab\"/></a>"
      ]
    },
    {
      "cell_type": "markdown",
      "source": [
        "Intro to Python"
      ],
      "metadata": {
        "id": "ayiT-VOFgqvm"
      }
    },
    {
      "cell_type": "code",
      "source": [
        "print(\"Hello World\")\n",
        "\n",
        "print(\"Hello, my name is Kamilah. I live in Wolverhampton\")\n"
      ],
      "metadata": {
        "colab": {
          "base_uri": "https://localhost:8080/"
        },
        "id": "cZVlBGNNhYXt",
        "outputId": "571669df-880e-4644-b96d-0d7536de1cd4"
      },
      "execution_count": 3,
      "outputs": [
        {
          "output_type": "stream",
          "name": "stdout",
          "text": [
            "Hello World\n",
            "Hello, my name is Kamilah. I live in Wolverhampton\n"
          ]
        }
      ]
    },
    {
      "cell_type": "code",
      "source": [
        "print (\"Hello, my name is Kamilah. I live in Wolverhampton\")\n"
      ],
      "metadata": {
        "colab": {
          "base_uri": "https://localhost:8080/"
        },
        "id": "jlIQ9Z4dnsop",
        "outputId": "c96e63c8-0987-497a-c151-0dcdbdf7e3f1"
      },
      "execution_count": 4,
      "outputs": [
        {
          "output_type": "stream",
          "name": "stdout",
          "text": [
            "Hello, my name is Kamilah. I live in Wolverhampton\n"
          ]
        }
      ]
    },
    {
      "cell_type": "code",
      "source": [
        "name = \"Kamilah\"\n",
        "location = \"Wolverhampton\"\n",
        "gender = \"Female\"\n",
        "\n",
        "print(name,location,gender)\n",
        "\n",
        "print (\"Hello, my name is \" \n",
        "       +name+\n",
        "       \"I live in \" \n",
        "       +location+\n",
        "       \" I am \" \n",
        "       +gender)"
      ],
      "metadata": {
        "colab": {
          "base_uri": "https://localhost:8080/"
        },
        "id": "5thkccnPn0Bp",
        "outputId": "a2fd5929-0513-414e-bd45-5452a89e1a04"
      },
      "execution_count": 12,
      "outputs": [
        {
          "output_type": "stream",
          "name": "stdout",
          "text": [
            "Kamilah Wolverhampton Female\n",
            "Hello, my name is KamilahI live in Wolverhampton I am Female\n"
          ]
        }
      ]
    },
    {
      "cell_type": "markdown",
      "source": [],
      "metadata": {
        "id": "1ms2NCM9mPkb"
      }
    },
    {
      "cell_type": "code",
      "source": [
        "a = \"John\"\n",
        "b = \"Birmingham\"\n",
        "a+b"
      ],
      "metadata": {
        "colab": {
          "base_uri": "https://localhost:8080/",
          "height": 35
        },
        "id": "2eJf4W5zumWf",
        "outputId": "2779860c-5740-40c0-8ece-de079fb4fc0d"
      },
      "execution_count": 15,
      "outputs": [
        {
          "output_type": "execute_result",
          "data": {
            "text/plain": [
              "'JohnBirmingham'"
            ],
            "application/vnd.google.colaboratory.intrinsic+json": {
              "type": "string"
            }
          },
          "metadata": {},
          "execution_count": 15
        }
      ]
    }
  ],
  "metadata": {
    "colab": {
      "collapsed_sections": [],
      "name": "Welcome to Colaboratory",
      "provenance": [],
      "include_colab_link": true
    },
    "kernelspec": {
      "display_name": "Python 3",
      "name": "python3"
    }
  },
  "nbformat": 4,
  "nbformat_minor": 0
}